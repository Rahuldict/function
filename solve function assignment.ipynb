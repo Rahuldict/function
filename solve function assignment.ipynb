{
 "cells": [
  {
   "cell_type": "code",
   "execution_count": 2,
   "id": "58dad3ea-ae3d-4f79-acb1-a78344ecef32",
   "metadata": {},
   "outputs": [],
   "source": [
    "#Q1. #Which keyword is used to create a function? Create a function to return a list of odd numbers in the range of 1 to 25?"
   ]
  },
  {
   "cell_type": "code",
   "execution_count": null,
   "id": "282bc39f-1a32-4001-9e7e-07bf44e11c01",
   "metadata": {},
   "outputs": [],
   "source": [
    "#ans = 1 ans =  A function is a block of code that can be reused and executed when it is called. To create a function, you need to use the def keyword, followed by the name of the function and the parameters (if any) in parentheses, and then a colon. The body of the function should be indented and contain the statements that perform the task of the function. To return a value from the function, you can use the return keyword."
   ]
  },
  {
   "cell_type": "code",
   "execution_count": 17,
   "id": "14f8f6ee-8ff3-4fc8-8cdd-aac0ee452888",
   "metadata": {},
   "outputs": [],
   "source": [
    "# Define the function\n",
    "def odd_numbers():\n",
    "  # Create an empty list to store the odd numbers\n",
    "  odd_list = []\n",
    "  # Loop through the numbers from 1 to 25\n",
    "  for num in range(1, 26):\n",
    "    # Check if the number is odd\n",
    "    if num % 2 == 1:\n",
    "      # Add it to the list\n",
    "      odd_list.append(num)\n",
    "  # Return the list\n",
    "  return odd_list"
   ]
  },
  {
   "cell_type": "code",
   "execution_count": 18,
   "id": "a291f1bf-57d3-40d5-ae9f-6e4220d8ff7f",
   "metadata": {},
   "outputs": [
    {
     "data": {
      "text/plain": [
       "[1, 3, 5, 7, 9, 11, 13, 15, 17, 19, 21, 23, 25]"
      ]
     },
     "execution_count": 18,
     "metadata": {},
     "output_type": "execute_result"
    }
   ],
   "source": [
    "odd_numbers()"
   ]
  },
  {
   "cell_type": "code",
   "execution_count": 19,
   "id": "a216b099-bf2f-400f-b13f-1f679aadb27a",
   "metadata": {},
   "outputs": [],
   "source": [
    "#Q2. Why *args and **kwargs is used in some functions? Create a function each for *args and **kwargs to demonstrate their use."
   ]
  },
  {
   "cell_type": "code",
   "execution_count": 20,
   "id": "4a7c5902-8f11-43c0-9850-de76719fa842",
   "metadata": {},
   "outputs": [],
   "source": [
    "# ans =Define the function\n",
    "def sum_numbers(*args):\n",
    "  # Initialize the sum to zero\n",
    "  total = 0\n",
    "  # Loop through the args tuple\n",
    "  for num in args:\n",
    "    # Add each number to the sum\n",
    "    total += num\n",
    "  # Return the sum\n",
    "  return total"
   ]
  },
  {
   "cell_type": "code",
   "execution_count": 21,
   "id": "329cc62a-ce11-4597-8860-8c14ade80e4f",
   "metadata": {},
   "outputs": [
    {
     "data": {
      "text/plain": [
       "0"
      ]
     },
     "execution_count": 21,
     "metadata": {},
     "output_type": "execute_result"
    }
   ],
   "source": [
    "sum_numbers()"
   ]
  },
  {
   "cell_type": "code",
   "execution_count": 22,
   "id": "ac195f57-91c6-4179-adeb-42402232d05a",
   "metadata": {},
   "outputs": [
    {
     "name": "stdout",
     "output_type": "stream",
     "text": [
      "6\n"
     ]
    }
   ],
   "source": [
    "print(sum_numbers(1, 2, 3))"
   ]
  },
  {
   "cell_type": "code",
   "execution_count": 23,
   "id": "2f301c46-81fc-4a78-9788-a85a1ba0cf73",
   "metadata": {},
   "outputs": [
    {
     "name": "stdout",
     "output_type": "stream",
     "text": [
      "9\n"
     ]
    }
   ],
   "source": [
    "print(sum_numbers(4, 5))"
   ]
  },
  {
   "cell_type": "code",
   "execution_count": 24,
   "id": "45713515-723f-4813-9f44-e275cb7d3f79",
   "metadata": {},
   "outputs": [
    {
     "name": "stdout",
     "output_type": "stream",
     "text": [
      "6\n"
     ]
    }
   ],
   "source": [
    "print(sum_numbers(6))"
   ]
  },
  {
   "cell_type": "code",
   "execution_count": 25,
   "id": "4f2fa569-f722-4911-a669-da8250e5480c",
   "metadata": {},
   "outputs": [],
   "source": [
    "# Define the function\n",
    "def greet(**kwargs):\n",
    "  # Print a greeting message with the kwargs dictionary\n",
    "  print(f\"Hello, {kwargs['name']}! You are {kwargs['age']} years old and you live in {kwargs['city']}.\")"
   ]
  },
  {
   "cell_type": "code",
   "execution_count": 26,
   "id": "ab40bf0f-6a70-41dc-872a-181fd999919d",
   "metadata": {},
   "outputs": [
    {
     "name": "stdout",
     "output_type": "stream",
     "text": [
      "Hello, Alice! You are 25 years old and you live in New York.\n",
      "Hello, Bob! You are 30 years old and you live in London.\n",
      "Hello, Charlie! You are 35 years old and you live in Paris.\n"
     ]
    }
   ],
   "source": [
    "greet(name=\"Alice\", age=25, city=\"New York\")\n",
    "greet(name=\"Bob\", age=30, city=\"London\")\n",
    "greet(name=\"Charlie\", age=35, city=\"Paris\")"
   ]
  },
  {
   "cell_type": "code",
   "execution_count": 27,
   "id": "0aa65a3f-5900-4282-b4a8-49d568e302dd",
   "metadata": {},
   "outputs": [
    {
     "name": "stdout",
     "output_type": "stream",
     "text": [
      "[1, 3, 5, 7, 9, 11, 13, 15, 17, 19, 21, 23, 25]\n"
     ]
    }
   ],
   "source": [
    "print(odd_numbers())"
   ]
  },
  {
   "cell_type": "code",
   "execution_count": 28,
   "id": "c15aec80-9f8a-4b7e-bae4-24c266887e84",
   "metadata": {},
   "outputs": [],
   "source": [
    "#Q3.  What is an iterator in python? Name the method used to initialise the iterator object and the method used for iteration. Use these methods to print the first five elements of the given list [2, 4, 6, 8, 10, 12, 14, 16, 18, 20]."
   ]
  },
  {
   "cell_type": "code",
   "execution_count": 29,
   "id": "edc58e72-486c-4cc6-a543-276e6e3d32f8",
   "metadata": {},
   "outputs": [],
   "source": [
    "# ans = Create a list\n",
    "my_list = [2, 4, 6, 8, 10, 12, 14, 16, 18, 20]"
   ]
  },
  {
   "cell_type": "code",
   "execution_count": 30,
   "id": "d5bf6b4e-28b4-4b9f-ba63-0a87c6e3f7e0",
   "metadata": {},
   "outputs": [],
   "source": [
    "# Get an iterator object from the list using __iter__()\n",
    "my_iter = my_list.__iter__()"
   ]
  },
  {
   "cell_type": "code",
   "execution_count": 32,
   "id": "a18dca31-e064-4de8-ada7-38c5bbd4c7b0",
   "metadata": {},
   "outputs": [
    {
     "name": "stdout",
     "output_type": "stream",
     "text": [
      "4\n",
      "6\n",
      "8\n",
      "10\n",
      "12\n"
     ]
    }
   ],
   "source": [
    "print(my_iter.__next__())\n",
    "print(my_iter.__next__())\n",
    "print(my_iter.__next__())\n",
    "print(my_iter.__next__())\n",
    "print(my_iter.__next__())\n"
   ]
  },
  {
   "cell_type": "code",
   "execution_count": 34,
   "id": "960330f1-7988-44b9-95e6-5d88d3ca1d9f",
   "metadata": {},
   "outputs": [
    {
     "name": "stdout",
     "output_type": "stream",
     "text": [
      "2\n",
      "4\n",
      "6\n",
      "8\n",
      "10\n"
     ]
    }
   ],
   "source": [
    "# Create a list\n",
    "my_list = [2, 4, 6, 8, 10, 12, 14,\n",
    "16, 18, 20]\n",
    "\n",
    "# Loop through the list using a for loop\n",
    "for i, num in enumerate(my_list):\n",
    "  # Print the element\n",
    "  print(num)\n",
    "  # Check if the index is equal to 4\n",
    "  if i == 4:\n",
    "    # Break out of the loop\n",
    "    break"
   ]
  },
  {
   "cell_type": "code",
   "execution_count": 33,
   "id": "a2ff24bc-8759-4b80-a532-076ad553930c",
   "metadata": {},
   "outputs": [],
   "source": [
    "#Q4.  What is a generator function in python? Why yield keyword is used? Give an example of a generator function"
   ]
  },
  {
   "cell_type": "code",
   "execution_count": 35,
   "id": "8fedde4a-7b60-4a03-b0bb-8a9451c61af7",
   "metadata": {},
   "outputs": [
    {
     "name": "stdout",
     "output_type": "stream",
     "text": [
      "1\n",
      "4\n",
      "9\n",
      "16\n",
      "25\n"
     ]
    }
   ],
   "source": [
    "# ans = Define the generator function\n",
    "def square_numbers(n):\n",
    "  # Loop through the numbers from 1 to n\n",
    "  for i in range(1, n + 1):\n",
    "    # Yield the square of the number\n",
    "    yield i ** 2\n",
    "\n",
    "# Get an iterator object from the generator function\n",
    "square_iter = square_numbers(5)\n",
    "\n",
    "# Print the values using a for loop\n",
    "for num in square_iter:\n",
    "  print(num)"
   ]
  },
  {
   "cell_type": "code",
   "execution_count": null,
   "id": "2992dabf-4884-45f5-b4cf-756977707d8c",
   "metadata": {},
   "outputs": [],
   "source": [
    "#Q5. Create a generator function for prime numbers less than 1000. Use the next() method to print the first 20 prime numbers."
   ]
  },
  {
   "cell_type": "code",
   "execution_count": 37,
   "id": "9c3cbf59-1e19-45e8-a504-d6b818fb04c4",
   "metadata": {},
   "outputs": [],
   "source": [
    "#  ans = Define the generator function\n",
    "def prime_numbers():\n",
    "  # Start from 2, the first prime number\n",
    "  num = 2\n",
    "  # Loop until num is less than 1000\n",
    "  while num < 1000:\n",
    "    # Assume num is prime until proven otherwise\n",
    "    is_prime = True\n",
    "    # Loop through the possible divisors from 2 to num - 1\n",
    "    for i in range(2, num):\n",
    "      # Check if num is divisible by i\n",
    "      if num % i == 0:\n",
    "        # Set is_prime to False and break out of the loop\n",
    "        is_prime = False\n",
    "        break\n",
    "    # If num is prime, yield it\n",
    "    if is_prime:\n",
    "      yield num\n",
    "    # Increment num by 1\n",
    "    num += 1"
   ]
  },
  {
   "cell_type": "code",
   "execution_count": 39,
   "id": "652c3822-23ce-4ac6-8ef6-248413de44d1",
   "metadata": {},
   "outputs": [],
   "source": [
    "prime_iter = prime_numbers()"
   ]
  },
  {
   "cell_type": "code",
   "execution_count": 40,
   "id": "013b8fdf-e259-4a96-bcf3-238443ae4cef",
   "metadata": {},
   "outputs": [
    {
     "name": "stdout",
     "output_type": "stream",
     "text": [
      "2\n",
      "3\n",
      "5\n",
      "7\n",
      "11\n",
      "13\n",
      "17\n",
      "19\n",
      "23\n",
      "29\n",
      "31\n",
      "37\n",
      "41\n",
      "43\n",
      "47\n",
      "53\n",
      "59\n",
      "61\n",
      "67\n",
      "71\n"
     ]
    }
   ],
   "source": [
    "# Print the first 20 prime numbers using next()\n",
    "print(next(prime_iter))\n",
    "print(next(prime_iter))\n",
    "print(next(prime_iter))\n",
    "print(next(prime_iter))\n",
    "print(next(prime_iter))\n",
    "print(next(prime_iter))\n",
    "print(next(prime_iter))\n",
    "print(next(prime_iter))\n",
    "print(next(prime_iter))\n",
    "print(next(prime_iter))\n",
    "print(next(prime_iter))\n",
    "print(next(prime_iter))\n",
    "print(next(prime_iter))\n",
    "print(next(prime_iter))\n",
    "print(next(prime_iter))\n",
    "print(next(prime_iter))\n",
    "print(next(prime_iter))\n",
    "print(next(prime_iter))\n",
    "print(next(prime_iter))\n",
    "print(next(prime_iter))"
   ]
  },
  {
   "cell_type": "code",
   "execution_count": 41,
   "id": "06d4105f-9795-4a4d-acce-fb48699b83b4",
   "metadata": {},
   "outputs": [],
   "source": [
    "#Q6. Write a python program to print the first 10 Fibonacci numbers using a while loop."
   ]
  },
  {
   "cell_type": "code",
   "execution_count": 42,
   "id": "9c8c4514-a6f6-426e-8237-4232d5f2eeab",
   "metadata": {},
   "outputs": [
    {
     "name": "stdout",
     "output_type": "stream",
     "text": [
      "0\n",
      "1\n",
      "1\n",
      "2\n",
      "3\n",
      "5\n",
      "8\n",
      "13\n",
      "21\n",
      "34\n"
     ]
    }
   ],
   "source": [
    "# Initialize the first two Fibonacci numbers as 0 and 1\n",
    "a = 0\n",
    "b = 1\n",
    "\n",
    "# Initialize a counter variable as 0\n",
    "count = 0\n",
    "\n",
    "# Loop until count reaches 10\n",
    "while count < 10:\n",
    "  # Print the current Fibonacci number\n",
    "  print(a)\n",
    "  \n",
    "  # Update the next Fibonacci number as the sum of the previous two numbers\n",
    "  c = a + b\n",
    "  \n",
    "  # Update a and b as b and c respectively\n",
    "  a = b\n",
    "  b = c\n",
    "  \n",
    "  # Increment count by 1\n",
    "  count += 1"
   ]
  },
  {
   "cell_type": "code",
   "execution_count": 43,
   "id": "e0a44909-612d-41ac-b9f9-4996c947204b",
   "metadata": {},
   "outputs": [],
   "source": [
    "#Q7. Write a List Comprehension to iterate through the given string: ‘pwskills’.\n",
    "\n",
    "#Expected output: ['p', 'w', 's', 'k', 'i', 'l', 'l', 's'] "
   ]
  },
  {
   "cell_type": "code",
   "execution_count": 44,
   "id": "69e244c3-f66b-443e-89d3-1202c6324c7c",
   "metadata": {},
   "outputs": [],
   "source": [
    "my_list = [char for char in 'pwskills']"
   ]
  },
  {
   "cell_type": "code",
   "execution_count": 48,
   "id": "6e1900eb-1ef8-4242-a6ca-480df003480c",
   "metadata": {},
   "outputs": [
    {
     "name": "stdout",
     "output_type": "stream",
     "text": [
      "['p', 'w', 's', 'k', 'i', 'l', 'l', 's']\n"
     ]
    }
   ],
   "source": [
    "print (my_list)"
   ]
  },
  {
   "cell_type": "code",
   "execution_count": 49,
   "id": "e6ffba32-6b26-4948-860e-6467cb60b799",
   "metadata": {},
   "outputs": [],
   "source": [
    "#Q8. Write a python program to check whether a given number is Palindrome or not using a while loop."
   ]
  },
  {
   "cell_type": "code",
   "execution_count": 50,
   "id": "9dbaa659-a06d-41ca-be8c-23e499d096fc",
   "metadata": {},
   "outputs": [
    {
     "name": "stdin",
     "output_type": "stream",
     "text": [
      "Enter a number:  77\n"
     ]
    },
    {
     "name": "stdout",
     "output_type": "stream",
     "text": [
      "77 is palindrome\n"
     ]
    }
   ],
   "source": [
    "# Take input from user and convert it to an integer\n",
    "num = int(input(\"Enter a number: \"))\n",
    "\n",
    "# Store the original number in another variable for comparison later\n",
    "original_num = num\n",
    "\n",
    "# Initialize a variable to store the reversed number as zero\n",
    "reversed_num = 0\n",
    "\n",
    "# Loop until num becomes zero or negative\n",
    "while num > 0:\n",
    "  \n",
    "  # Get the last digit of num by using modulo operator (%)\n",
    "  last_digit = num % 10\n",
    "  \n",
    "  # Add the last digit to reversed_num after multiplying it by ten \n",
    "  reversed_num = reversed_num * 10 + last_digit\n",
    "  \n",
    "  # Remove the last digit of num by using integer division (//)\n",
    "  num = num // 10\n",
    "  \n",
    "# Check if original_num and reversed_num are equal \n",
    "if original_num == reversed_num:\n",
    "  \n",
    "   # Print that the number is palindrome \n",
    "   print(f\"{original_num} is palindrome\")\n",
    "   \n",
    "else:\n",
    "  \n",
    "   # Print that the number is not palindrome \n",
    "   print(f\"{original_num} is not palindrome\")"
   ]
  },
  {
   "cell_type": "code",
   "execution_count": 51,
   "id": "00dcaf70-6281-42cd-8778-3e5f914d9cde",
   "metadata": {},
   "outputs": [],
   "source": [
    "#Q9. Write a code to print odd numbers from 1 to 100 using list comprehension"
   ]
  },
  {
   "cell_type": "code",
   "execution_count": 52,
   "id": "dd60befe-3b20-4cbd-828f-4af0e26c5132",
   "metadata": {},
   "outputs": [],
   "source": [
    "# Create a list comprehension that creates a list from 1 to 100\n",
    "my_list = [num for num in range(1, 101)]\n",
    "\n",
    "# Create another list comprehension that filters out the odd numbers from the list\n",
    "odd_list = [num for num in my_list if num % 2 == 1]"
   ]
  },
  {
   "cell_type": "code",
   "execution_count": 53,
   "id": "a00cdbbc-7817-4077-a6f6-2d46b04b4430",
   "metadata": {},
   "outputs": [
    {
     "name": "stdout",
     "output_type": "stream",
     "text": [
      "[1, 3, 5, 7, 9, 11, 13, 15, 17, 19, 21, 23, 25, 27, 29, 31, 33, 35, 37, 39, 41, 43, 45, 47, 49, 51, 53, 55, 57, 59, 61, 63, 65, 67, 69, 71, 73, 75, 77, 79, 81, 83, 85, 87, 89, 91, 93, 95, 97, 99]\n"
     ]
    }
   ],
   "source": [
    "print(odd_list)"
   ]
  },
  {
   "cell_type": "code",
   "execution_count": null,
   "id": "7dde7b2e-4f24-47d1-b63c-58b58a17632f",
   "metadata": {},
   "outputs": [],
   "source": []
  }
 ],
 "metadata": {
  "kernelspec": {
   "display_name": "Python 3 (ipykernel)",
   "language": "python",
   "name": "python3"
  },
  "language_info": {
   "codemirror_mode": {
    "name": "ipython",
    "version": 3
   },
   "file_extension": ".py",
   "mimetype": "text/x-python",
   "name": "python",
   "nbconvert_exporter": "python",
   "pygments_lexer": "ipython3",
   "version": "3.10.8"
  }
 },
 "nbformat": 4,
 "nbformat_minor": 5
}
